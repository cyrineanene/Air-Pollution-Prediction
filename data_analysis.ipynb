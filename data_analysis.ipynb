{
 "cells": [
  {
   "cell_type": "code",
   "execution_count": null,
   "metadata": {},
   "outputs": [],
   "source": [
    "#importing the libraries\n",
    "import numpy as np\n",
    "import pandas as pd\n",
    "import matplotlib.pyplot as plt "
   ]
  },
  {
   "cell_type": "code",
   "execution_count": 62,
   "metadata": {},
   "outputs": [
    {
     "name": "stdout",
     "output_type": "stream",
     "text": [
      "<class 'pandas.core.frame.DataFrame'>\n",
      "RangeIndex: 16287 entries, 0 to 16286\n",
      "Data columns (total 4 columns):\n",
      " #   Column     Non-Null Count  Dtype \n",
      "---  ------     --------------  ----- \n",
      " 0   Date       16287 non-null  object\n",
      " 1   Country    16287 non-null  object\n",
      " 2   Status     16287 non-null  object\n",
      " 3   AQI Value  16287 non-null  int64 \n",
      "dtypes: int64(1), object(3)\n",
      "memory usage: 509.1+ KB\n"
     ]
    }
   ],
   "source": [
    "#Read the dataset\n",
    "df=pd.read_csv('dataset/data_date.csv')\n",
    "df.info()"
   ]
  },
  {
   "cell_type": "markdown",
   "metadata": {},
   "source": [
    "#### General Informations about the dataset"
   ]
  },
  {
   "cell_type": "code",
   "execution_count": 13,
   "metadata": {},
   "outputs": [
    {
     "name": "stdout",
     "output_type": "stream",
     "text": [
      "(16287, 4)\n",
      "Index(['Date', 'Country', 'Status', 'AQI Value'], dtype='object')\n",
      "         Date    Country                          Status  AQI Value\n",
      "0  2022-07-21    Albania                            Good         14\n",
      "1  2022-07-21    Algeria                        Moderate         65\n",
      "2  2022-07-21    Andorra                        Moderate         55\n",
      "3  2022-07-21     Angola  Unhealthy for Sensitive Groups        113\n",
      "4  2022-07-21  Argentina                        Moderate         63\n"
     ]
    }
   ],
   "source": [
    "print(df.shape)\n",
    "print(df.columns)\n",
    "print(df.head(5))"
   ]
  },
  {
   "cell_type": "code",
   "execution_count": 14,
   "metadata": {},
   "outputs": [
    {
     "name": "stdout",
     "output_type": "stream",
     "text": [
      "Date         0\n",
      "Country      0\n",
      "Status       0\n",
      "AQI Value    0\n",
      "dtype: int64\n"
     ]
    }
   ],
   "source": [
    "print(df.isnull().sum())"
   ]
  },
  {
   "cell_type": "code",
   "execution_count": 15,
   "metadata": {},
   "outputs": [
    {
     "name": "stdout",
     "output_type": "stream",
     "text": [
      "          AQI Value\n",
      "count  16287.000000\n",
      "mean      62.009394\n",
      "std       48.875695\n",
      "min        1.000000\n",
      "25%       29.000000\n",
      "50%       52.000000\n",
      "75%       82.000000\n",
      "max      963.000000\n"
     ]
    }
   ],
   "source": [
    "print(df.describe())"
   ]
  },
  {
   "cell_type": "code",
   "execution_count": 16,
   "metadata": {},
   "outputs": [
    {
     "name": "stdout",
     "output_type": "stream",
     "text": [
      "              Date  Country Status\n",
      "count        16287    16287  16287\n",
      "unique         110      142      6\n",
      "top     2022-07-22  Albania   Good\n",
      "freq           423      119   7882\n"
     ]
    }
   ],
   "source": [
    "print(df.describe(include=['object']))"
   ]
  },
  {
   "cell_type": "markdown",
   "metadata": {},
   "source": [
    "1. The dataset is composed of 16287 row and 4 columns: Date, Country, Status and AQI Value. \n",
    "2. It doesn't cointain any missing value in any column.\n",
    "3. For the numerical column: \n",
    "`AQI Value`, the average AQI Value is equal to 62, the lowest is 1 and the highest is 963. 25% of the values are below 29, 75% are below 82 and the median AQI Value is equal to 52. \n",
    "4. For the categorical columns: \n",
    "`Date`, the dataset contains 110 unique value. The most frequent date is \"2022-07-22.\", it appears 423 time.\n",
    "`Country`, the dataset contains 142 unique value. The most frequent date is \"Albania\", it appears 119 time.\n",
    "`Status`, the dataset contains 6 unique value. The most frequent date is \"Good\", it appears 7882 time."
   ]
  },
  {
   "cell_type": "markdown",
   "metadata": {},
   "source": [
    "#### Droping the duplicates"
   ]
  },
  {
   "cell_type": "code",
   "execution_count": 23,
   "metadata": {},
   "outputs": [
    {
     "name": "stdout",
     "output_type": "stream",
     "text": [
      "300\n",
      "             Date     Country                          Status  AQI Value\n",
      "143    2022-07-21     Algeria                        Moderate         65\n",
      "152    2022-07-21  Bangladesh  Unhealthy for Sensitive Groups        141\n",
      "160    2022-07-21      Brunei                            Good         15\n",
      "163    2022-07-21    Cambodia                            Good         15\n",
      "176    2022-07-21     Denmark                            Good         36\n",
      "...           ...         ...                             ...        ...\n",
      "13247  2024-06-06  Uzbekistan                            Good         21\n",
      "13248  2024-06-06     Vatican                            Good         25\n",
      "13249  2024-06-06   Venezuela                            Good         10\n",
      "13250  2024-06-06     Vietnam                        Moderate         63\n",
      "13251  2024-06-06      Zambia  Unhealthy for Sensitive Groups        140\n",
      "\n",
      "[300 rows x 4 columns]\n"
     ]
    }
   ],
   "source": [
    "print(df.duplicated().sum())\n",
    "duplicates = df[df.duplicated()]\n",
    "print(duplicates)"
   ]
  },
  {
   "cell_type": "code",
   "execution_count": 63,
   "metadata": {},
   "outputs": [
    {
     "name": "stdout",
     "output_type": "stream",
     "text": [
      "(15987, 4)\n"
     ]
    }
   ],
   "source": [
    "df = df.drop_duplicates()\n",
    "print(df.shape)"
   ]
  },
  {
   "cell_type": "code",
   "execution_count": 28,
   "metadata": {},
   "outputs": [
    {
     "name": "stdout",
     "output_type": "stream",
     "text": [
      "          AQI Value\n",
      "count  15987.000000\n",
      "mean      61.904485\n",
      "std       48.730843\n",
      "min        1.000000\n",
      "25%       29.000000\n",
      "50%       52.000000\n",
      "75%       81.000000\n",
      "max      963.000000\n",
      "              Date Country Status\n",
      "count        15987   15987  15987\n",
      "unique         110     142      6\n",
      "top     2022-07-22  Uganda   Good\n",
      "freq           384     119   7750\n"
     ]
    }
   ],
   "source": [
    "print(df.describe())\n",
    "print(df.describe(include=['object']))"
   ]
  },
  {
   "cell_type": "markdown",
   "metadata": {},
   "source": [
    "This dataset contains a total of 300 duplicate row. And given our scenario and that we are working on a time series use case, we have proceed to remove those duplicates. By doing so, we are now working with 15987 row."
   ]
  },
  {
   "cell_type": "markdown",
   "metadata": {},
   "source": [
    "1. The new dataset is composed of 15987 row. \n",
    "2. For the numerical column: \n",
    "`AQI Value`, the new average AQI Value is equal to 61.9, the lowest is still 1 and the highest is still 963. 25% of the values are still below 29, 75% are now below 81 and the median AQI Value is still equal to 52. \n",
    "4. For the categorical columns: \n",
    "`Date`, this column contains 110 unique value. The most frequent date is \"2022-07-22.\", it appeared now only 384 time, meaning that it was reduced by 39.\n",
    "`Country`, this column contains 142 unique value. The most frequent date is now \"Uganda\", it appeared 119 time.\n",
    "`Status`, this column contains 6 unique value. The most frequent date is \"Good\", it appears 7750 time, being reduced by 132."
   ]
  },
  {
   "cell_type": "markdown",
   "metadata": {},
   "source": [
    "#### Understanding the Date Column"
   ]
  },
  {
   "cell_type": "code",
   "execution_count": 35,
   "metadata": {},
   "outputs": [
    {
     "name": "stdout",
     "output_type": "stream",
     "text": [
      "['2022-07-21' '2022-07-22' '2022-07-23' '2022-07-24' '2022-07-25'\n",
      " '2022-07-26' '2022-07-27' '2022-07-28' '2022-07-29' '2022-07-30'\n",
      " '2022-07-31' '2022-08-01' '2022-08-02' '2022-08-03' '2022-08-04'\n",
      " '2022-08-05' '2022-08-06' '2022-08-07' '2022-08-08' '2022-08-09'\n",
      " '2022-08-10' '2022-08-11' '2022-08-12' '2022-08-13' '2022-08-14'\n",
      " '2022-08-15' '2022-08-16' '2022-08-17' '2022-08-18' '2022-08-19'\n",
      " '2022-08-20' '2022-08-21' '2022-08-22' '2022-08-23' '2022-08-24'\n",
      " '2022-08-25' '2022-08-26' '2022-08-27' '2022-08-28' '2022-08-29'\n",
      " '2022-08-30' '2022-08-31' '2022-09-01' '2022-09-02' '2022-09-03'\n",
      " '2022-09-04' '2022-09-05' '2022-09-06' '2022-09-07' '2022-09-08'\n",
      " '2022-09-09' '2022-09-10' '2022-09-11' '2022-09-12' '2022-09-13'\n",
      " '2022-09-14' '2022-09-15' '2022-09-16' '2022-09-17' '2022-09-18'\n",
      " '2022-09-19' '2022-09-20' '2022-09-21' '2022-09-22' '2023-01-12'\n",
      " '2023-03-30' '2023-04-06' '2023-04-13' '2023-04-20' '2023-04-27'\n",
      " '2023-05-04' '2023-05-11' '2023-05-18' '2023-05-25' '2023-06-01'\n",
      " '2023-06-08' '2023-06-15' '2023-06-22' '2023-06-29' '2023-07-06'\n",
      " '2023-07-13' '2023-07-20' '2023-07-27' '2023-08-03' '2023-08-10'\n",
      " '2024-06-06' '2024-06-13' '2024-06-20' '2024-06-27' '2024-07-04'\n",
      " '2024-07-11' '2024-07-18' '2024-07-25' '2024-08-01' '2024-08-08'\n",
      " '2024-08-15' '2024-08-22' '2024-08-29' '2024-09-05' '2024-09-12'\n",
      " '2024-09-19' '2024-09-26' '2024-10-03' '2024-10-10' '2024-10-17'\n",
      " '2024-10-24' '2024-10-31' '2024-11-07' '2024-11-14' '2024-11-21']\n",
      "Date\n",
      "2022-07-22    384\n",
      "2022-08-23    264\n",
      "2022-07-26    262\n",
      "2022-07-23    262\n",
      "2023-08-10    261\n",
      "             ... \n",
      "2024-10-31    120\n",
      "2024-10-03    119\n",
      "2024-11-07    119\n",
      "2024-11-14    119\n",
      "2024-11-21    118\n",
      "Name: count, Length: 110, dtype: int64\n"
     ]
    }
   ],
   "source": [
    "print(df['Date'].unique())\n",
    "print(df['Date'].value_counts())"
   ]
  },
  {
   "cell_type": "code",
   "execution_count": 37,
   "metadata": {},
   "outputs": [
    {
     "name": "stdout",
     "output_type": "stream",
     "text": [
      "[('2022-07-22', 384), ('2022-08-23', 264), ('2022-07-26', 262), ('2022-07-23', 262), ('2023-08-10', 261), ('2022-07-21', 250), ('2022-09-22', 246), ('2022-07-28', 141), ('2022-07-27', 141), ('2022-07-30', 141), ('2022-07-31', 141), ('2022-08-01', 141), ('2022-07-29', 141), ('2022-07-24', 141), ('2022-08-03', 141), ('2022-08-04', 141), ('2022-08-06', 141), ('2022-08-05', 141), ('2022-08-08', 141), ('2022-08-09', 141), ('2022-08-10', 141), ('2022-08-07', 141), ('2022-08-12', 141), ('2022-08-13', 141), ('2022-08-14', 141), ('2022-08-15', 141), ('2022-08-16', 141), ('2022-08-17', 141), ('2022-08-18', 141), ('2022-08-11', 141), ('2022-08-19', 141), ('2022-08-20', 141), ('2022-08-21', 141), ('2022-08-22', 141), ('2022-08-24', 141), ('2022-08-25', 141), ('2022-08-26', 141), ('2022-08-27', 141), ('2022-08-28', 141), ('2022-08-29', 141), ('2022-09-15', 141), ('2022-09-20', 141), ('2022-09-05', 141), ('2022-09-14', 141), ('2022-08-02', 141), ('2022-07-25', 141), ('2022-09-21', 141), ('2022-09-19', 141), ('2022-09-13', 141), ('2022-09-06', 141), ('2022-08-31', 140), ('2022-08-30', 140), ('2022-09-02', 140), ('2022-09-01', 140), ('2022-09-04', 140), ('2022-09-03', 140), ('2022-09-10', 140), ('2022-09-16', 140), ('2023-04-06', 140), ('2023-04-13', 140), ('2022-09-17', 140), ('2022-09-12', 140), ('2023-04-20', 140), ('2022-09-11', 140), ('2022-09-08', 139), ('2022-09-07', 139), ('2022-09-18', 139), ('2022-09-09', 139), ('2024-06-06', 139), ('2023-03-30', 138), ('2023-06-01', 138), ('2023-05-11', 138), ('2023-04-27', 138), ('2023-05-25', 137), ('2023-05-18', 137), ('2023-05-04', 137), ('2023-07-06', 136), ('2023-01-12', 135), ('2023-06-08', 135), ('2023-06-15', 135), ('2023-07-13', 135), ('2023-06-22', 134), ('2023-07-20', 134), ('2023-06-29', 134), ('2023-07-27', 133), ('2024-06-13', 133), ('2023-08-03', 131), ('2024-06-20', 131), ('2024-06-27', 131), ('2024-07-04', 130), ('2024-07-25', 130), ('2024-09-19', 130), ('2024-08-15', 130), ('2024-08-08', 130), ('2024-10-10', 129), ('2024-08-01', 129), ('2024-07-18', 129), ('2024-08-22', 129), ('2024-07-11', 128), ('2024-08-29', 128), ('2024-09-05', 128), ('2024-09-12', 127), ('2024-09-26', 126), ('2024-10-17', 121), ('2024-10-24', 121), ('2024-10-31', 120), ('2024-10-03', 119), ('2024-11-07', 119), ('2024-11-14', 119), ('2024-11-21', 118)]\n"
     ]
    }
   ],
   "source": [
    "#This list might be useful later\n",
    "date_frequency_list = df['Date'].value_counts().items()\n",
    "date_frequency_list = list(date_frequency_list)\n",
    "print(date_frequency_list)"
   ]
  },
  {
   "cell_type": "markdown",
   "metadata": {},
   "source": [
    "#### Understanding the Country Column"
   ]
  },
  {
   "cell_type": "code",
   "execution_count": 66,
   "metadata": {},
   "outputs": [
    {
     "name": "stdout",
     "output_type": "stream",
     "text": [
      "['Albania' 'Algeria' 'Andorra' 'Angola' 'Argentina' 'Armenia' 'Australia'\n",
      " 'Austria' 'Azerbaijan' 'Bahrain' 'Bangladesh' 'Belarus' 'Belgium'\n",
      " 'Belize' 'Bermuda' 'Bolivia' 'Bosnia and Herzegovina' 'Brazil' 'Brunei'\n",
      " 'Bulgaria' 'Burkina Faso' 'Cambodia' 'Canada' 'Cape Verde'\n",
      " 'Cayman Islands' 'Central African Republic' 'Chad' 'Chile' 'China'\n",
      " 'Colombia' 'Costa Rica' 'Croatia' 'Cyprus' 'Czech Republic' 'Denmark'\n",
      " 'Dominican Republic' 'Ecuador' 'Egypt' 'El Salvador' 'Estonia' 'Ethiopia'\n",
      " 'Finland' 'France' 'French Guiana' 'Gabon' 'Gambia' 'Georgia' 'Germany'\n",
      " 'Ghana' 'Gibraltar' 'Greece' 'Grenada' 'Guadeloupe' 'Guam' 'Guatemala'\n",
      " 'Honduras' 'Hong Kong' 'Hungary' 'Iceland' 'India' 'Indonesia' 'Iran'\n",
      " 'Iraq' 'Ireland' 'Israel' 'Italy' 'Ivory Coast' 'Japan' 'Jersey' 'Jordan'\n",
      " 'Kazakhstan' 'Kenya' 'Kosovo' 'Kuwait' 'Kyrgyzstan' 'Laos' 'Latvia'\n",
      " 'Lebanon' 'Liberia' 'Liechtenstein' 'Lithuania' 'Luxembourg' 'Macao'\n",
      " 'Macedonia' 'Madagascar' 'Malaysia' 'Malta' 'Martinique' 'Mexico'\n",
      " 'Moldova' 'Monaco' 'Mongolia' 'Montenegro' 'Myanmar' 'Nepal'\n",
      " 'Netherlands' 'New Caledonia' 'New Zealand' 'Nigeria' 'Norway' 'Pakistan'\n",
      " 'Palestinian Territory' 'Peru' 'Philippines' 'Poland' 'Portugal'\n",
      " 'Puerto Rico' 'Qatar' 'Reunion' 'Romania' 'Russia' 'San Marino'\n",
      " 'Saudi Arabia' 'Senegal' 'Serbia' 'Singapore' 'Slovakia' 'Slovenia'\n",
      " 'South Africa' 'South Korea' 'Spain' 'Sri Lanka' 'Sudan' 'Sweden'\n",
      " 'Switzerland' 'Taiwan' 'Tajikistan' 'Thailand' 'Togo'\n",
      " 'Trinidad and Tobago' 'Turkey' 'Turkmenistan' 'Uganda' 'Ukraine'\n",
      " 'United Arab Emirates'\n",
      " 'United Kingdom of Great Britain and Northern Ireland'\n",
      " 'United States of America' 'Uzbekistan' 'Vatican' 'Venezuela' 'Vietnam'\n",
      " 'Zambia']\n",
      "Country\n",
      "Uganda                      119\n",
      "Laos                        119\n",
      "Taiwan                      119\n",
      "Armenia                     118\n",
      "Argentina                   118\n",
      "                           ... \n",
      "Guam                         85\n",
      "Central African Republic     81\n",
      "Sudan                        77\n",
      "Gambia                       71\n",
      "Saudi Arabia                 20\n",
      "Name: count, Length: 142, dtype: int64\n"
     ]
    }
   ],
   "source": [
    "print(df['Country'].unique())\n",
    "print(df['Country'].value_counts())"
   ]
  },
  {
   "cell_type": "code",
   "execution_count": 71,
   "metadata": {},
   "outputs": [
    {
     "name": "stdout",
     "output_type": "stream",
     "text": [
      "[('Uganda', 119), ('Laos', 119), ('Taiwan', 119), ('Armenia', 118), ('Argentina', 118), ('Andorra', 118), ('Bulgaria', 118), ('Cape Verde', 118), ('China', 118), ('Chile', 118), ('Brazil', 118), ('Belarus', 118), ('Azerbaijan', 118), ('Australia', 118), ('Malta', 118), ('Mexico', 118), ('New Zealand', 118), ('Norway', 118), ('Nepal', 118), ('Netherlands', 118), ('South Korea', 118), ('Slovakia', 118), ('Dominican Republic', 118), ('Ecuador', 118), ('Ethiopia', 118), ('France', 118), ('Ghana', 118), ('Hong Kong', 118), ('Czech Republic', 118), ('Canada', 118), ('Latvia', 118), ('Kenya', 118), ('Kazakhstan', 118), ('Kuwait', 118), ('Palestinian Territory', 118), ('Romania', 118), ('Poland', 118), ('Portugal', 118), ('Montenegro', 118), ('Madagascar', 118), ('Moldova', 118), ('Mongolia', 118), ('Lithuania', 118), ('Liechtenstein', 118), ('Germany', 118), ('Croatia', 118), ('Thailand', 118), ('Trinidad and Tobago', 118), ('Vietnam', 118), ('Turkey', 118), ('Sri Lanka', 118), ('Switzerland', 118), ('Tajikistan', 118), ('Sweden', 118), ('United Kingdom of Great Britain and Northern Ireland', 117), ('United States of America', 117), ('United Arab Emirates', 117), ('Macedonia', 117), ('Slovenia', 117), ('Albania', 117), ('Austria', 117), ('Belgium', 117), ('Israel', 117), ('India', 117), ('Guatemala', 117), ('Greece', 117), ('Georgia', 117), ('Italy', 117), ('Japan', 117), ('Iceland', 117), ('French Guiana', 117), ('Denmark', 117), ('Finland', 117), ('Estonia', 117), ('Costa Rica', 117), ('Cyprus', 117), ('Bosnia and Herzegovina', 117), ('Colombia', 117), ('Luxembourg', 117), ('Martinique', 117), ('Macao', 117), ('Guadeloupe', 117), ('Reunion', 117), ('Spain', 117), ('Serbia', 117), ('Russia', 117), ('Myanmar', 117), ('Peru', 117), ('Monaco', 117), ('Kosovo', 116), ('Singapore', 116), ('Kyrgyzstan', 116), ('Jordan', 116), ('Ukraine', 116), ('Gibraltar', 116), ('Malaysia', 115), ('Liberia', 115), ('Ireland', 115), ('Iran', 115), ('Uzbekistan', 115), ('Venezuela', 114), ('Vatican', 113), ('San Marino', 113), ('Pakistan', 112), ('Brunei', 112), ('Iraq', 112), ('South Africa', 112), ('Bangladesh', 111), ('Honduras', 111), ('Bermuda', 111), ('Indonesia', 111), ('Nigeria', 111), ('Philippines', 111), ('Puerto Rico', 111), ('New Caledonia', 110), ('Grenada', 110), ('Belize', 110), ('Cambodia', 109), ('El Salvador', 108), ('Bolivia', 108), ('Algeria', 107), ('Zambia', 107), ('Egypt', 107), ('Turkmenistan', 106), ('Togo', 105), ('Bahrain', 105), ('Burkina Faso', 103), ('Chad', 103), ('Jersey', 102), ('Ivory Coast', 102), ('Hungary', 99), ('Senegal', 99), ('Angola', 93), ('Cayman Islands', 92), ('Gabon', 90), ('Qatar', 86), ('Lebanon', 86), ('Guam', 85), ('Central African Republic', 81), ('Sudan', 77), ('Gambia', 71), ('Saudi Arabia', 20)]\n"
     ]
    }
   ],
   "source": [
    "#This list might be useful later\n",
    "country_frequency_list = df['Country'].value_counts().items()\n",
    "country_frequency_list = list(country_frequency_list)\n",
    "print(country_frequency_list)"
   ]
  },
  {
   "cell_type": "markdown",
   "metadata": {},
   "source": [
    "#### Understanding the Status Column"
   ]
  },
  {
   "cell_type": "code",
   "execution_count": 69,
   "metadata": {},
   "outputs": [
    {
     "name": "stdout",
     "output_type": "stream",
     "text": [
      "['Good' 'Moderate' 'Unhealthy for Sensitive Groups' 'Unhealthy'\n",
      " 'Very Unhealthy' 'Hazardous']\n",
      "Status\n",
      "Good                              7750\n",
      "Moderate                          5822\n",
      "Unhealthy for Sensitive Groups    1567\n",
      "Unhealthy                          668\n",
      "Very Unhealthy                     110\n",
      "Hazardous                           70\n",
      "Name: count, dtype: int64\n"
     ]
    }
   ],
   "source": [
    "print(df['Status'].unique())\n",
    "print(df['Status'].value_counts())"
   ]
  },
  {
   "cell_type": "code",
   "execution_count": 70,
   "metadata": {},
   "outputs": [
    {
     "name": "stdout",
     "output_type": "stream",
     "text": [
      "[('Good', 7750), ('Moderate', 5822), ('Unhealthy for Sensitive Groups', 1567), ('Unhealthy', 668), ('Very Unhealthy', 110), ('Hazardous', 70)]\n"
     ]
    }
   ],
   "source": [
    "#This list might be useful later\n",
    "status_frequency_list = df['Status'].value_counts().items()\n",
    "status_frequency_list = list(status_frequency_list)\n",
    "print(status_frequency_list)"
   ]
  },
  {
   "cell_type": "markdown",
   "metadata": {},
   "source": [
    "#### Understanding the AQI Value Column"
   ]
  },
  {
   "cell_type": "code",
   "execution_count": 64,
   "metadata": {},
   "outputs": [
    {
     "data": {
      "image/png": "[encoded data removed]",
      "text/plain": [
       "<Figure size 640x480 with 1 Axes>"
      ]
     },
     "metadata": {},
     "output_type": "display_data"
    }
   ],
   "source": [
    "import matplotlib.pyplot as plt\n",
    "df.boxplot(column=['AQI Value'])\n",
    "plt.show()"
   ]
  },
  {
   "cell_type": "code",
   "execution_count": 65,
   "metadata": {},
   "outputs": [
    {
     "name": "stdout",
     "output_type": "stream",
     "text": [
      "Lower Bound: -49.0, Upper Bound: 159.0, IQR: 52.0\n",
      "Number of outliers: 620\n"
     ]
    }
   ],
   "source": [
    "# Calculate Q1, Q3, and IQR\n",
    "Q1 = df['AQI Value'].quantile(0.25)  \n",
    "Q3 = df['AQI Value'].quantile(0.75)  \n",
    "IQR = Q3 - Q1                       \n",
    "\n",
    "# Calculate lower and upper bounds\n",
    "lower_bound = Q1 - 1.5 * IQR\n",
    "upper_bound = Q3 + 1.5 * IQR\n",
    "print(f\"Lower Bound: {lower_bound}, Upper Bound: {upper_bound}, IQR: {IQR}\")\n",
    "\n",
    "# Create a boolean mask for outliers\n",
    "outliers = (df['AQI Value'] < lower_bound) | (df['AQI Value'] > upper_bound)\n",
    "\n",
    "# Count outliers\n",
    "outlier_count = outliers.sum()\n",
    "print(f\"Number of outliers: {outlier_count}\")"
   ]
  }
 ],
 "metadata": {
  "kernelspec": {
   "display_name": ".venv",
   "language": "python",
   "name": "python3"
  },
  "language_info": {
   "codemirror_mode": {
    "name": "ipython",
    "version": 3
   },
   "file_extension": ".py",
   "mimetype": "text/x-python",
   "name": "python",
   "nbconvert_exporter": "python",
   "pygments_lexer": "ipython3",
   "version": "3.11.9"
  }
 },
 "nbformat": 4,
 "nbformat_minor": 2
}
